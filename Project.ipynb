{
  "nbformat": 4,
  "nbformat_minor": 0,
  "metadata": {
    "colab": {
      "provenance": [],
      "gpuType": "T4",
      "authorship_tag": "ABX9TyOING4aivUEne4Jm16hdNnO",
      "include_colab_link": true
    },
    "kernelspec": {
      "name": "python3",
      "display_name": "Python 3"
    },
    "language_info": {
      "name": "python"
    },
    "accelerator": "GPU"
  },
  "cells": [
    {
      "cell_type": "markdown",
      "metadata": {
        "id": "view-in-github",
        "colab_type": "text"
      },
      "source": [
        "<a href=\"https://colab.research.google.com/github/marcusflygar1-hash/AH2179_Project/blob/main/Project.ipynb\" target=\"_parent\"><img src=\"https://colab.research.google.com/assets/colab-badge.svg\" alt=\"Open In Colab\"/></a>"
      ]
    },
    {
      "cell_type": "code",
      "source": [
        "# importing the neccesary libraries for the project.\n",
        "import pandas as pd\n",
        "import numpy as np\n",
        "import seaborn as sns\n",
        "import matplotlib.pyplot as plt\n",
        "from sklearn.linear_model import LogisticRegression\n",
        "from sklearn.metrics import accuracy_score\n",
        "from sklearn.preprocessing import StandardScaler\n",
        "from sklearn.metrics import auc, accuracy_score, confusion_matrix, mean_squared_error, mean_absolute_error, mean_absolute_percentage_error, mean_squared_log_error, r2_score, precision_score, recall_score, f1_score, classification_report\n",
        "from sklearn.model_selection import cross_val_score, GridSearchCV, KFold, RandomizedSearchCV, train_test_split\n",
        "from sklearn.linear_model import LinearRegression\n",
        "from sklearn.ensemble import RandomForestRegressor\n",
        "from xgboost import XGBRegressor"
      ],
      "metadata": {
        "id": "yO-vUlw1yKh0"
      },
      "execution_count": 27,
      "outputs": []
    },
    {
      "cell_type": "markdown",
      "source": [
        "# Data prepping"
      ],
      "metadata": {
        "id": "LHVSQYKfLwaT"
      }
    },
    {
      "cell_type": "code",
      "source": [
        "tds = pd.read_csv('training_dataset.csv', sep=';')\n",
        "ev_ds = pd.read_csv('evaluation_dataset.csv',sep=';')\n",
        "f_ev_ds = pd.read_csv('final_evaluation_dataset.csv', sep=';')\n"
      ],
      "metadata": {
        "id": "-rVQM72Kq4ig"
      },
      "execution_count": 28,
      "outputs": []
    },
    {
      "cell_type": "code",
      "source": [
        "print('\\n training dataset')\n",
        "print(tds.head())\n",
        "print('\\n evaluation dataset------------')\n",
        "print(ev_ds.head())\n",
        "print('\\n final evaluation dataset --------')\n",
        "print(f_ev_ds.head())"
      ],
      "metadata": {
        "id": "ed8Fuwk6KpPf",
        "colab": {
          "base_uri": "https://localhost:8080/"
        },
        "outputId": "e44cd4ac-7979-4275-9174-04d5a9b23498"
      },
      "execution_count": 29,
      "outputs": [
        {
          "output_type": "stream",
          "name": "stdout",
          "text": [
            "\n",
            " training dataset\n",
            "   DP_ID      PORTAL      Date      Time  Interval_1  Interval_5  Interval_15  \\\n",
            "0    543  E4S 56,780  20210601  04:00:00         240          48           16   \n",
            "1    539  E4S 56,160  20210601  04:00:00         240          48           16   \n",
            "2    534  E4S 56,780  20210601  04:00:00         240          48           16   \n",
            "3    351  E4S 56,490  20210601  04:00:00         240          48           16   \n",
            "4    353  E4S 57,055  20210601  04:00:00         240          48           16   \n",
            "\n",
            "   Interval_30  Interval_60  SPEED_MS_AVG  FLOW  \n",
            "0            8            4         19.34  10.0  \n",
            "1            8            4         19.64   9.0  \n",
            "2            8            4         23.36   5.0  \n",
            "3            8            4         20.14   7.0  \n",
            "4            8            4         17.70   7.0  \n",
            "\n",
            " evaluation dataset------------\n",
            "   DP_ID      PORTAL      Date      Time  Interval_1  Interval_5  Interval_15  \\\n",
            "0   1254  E4S 55,620  20220101  04:00:00         240          48           16   \n",
            "1   1443  E4S 57,055  20220101  04:00:00         240          48           16   \n",
            "2   1079  E4S 56,780  20220101  04:00:00         240          48           16   \n",
            "3   1076  E4S 55,620  20220101  04:00:00         240          48           16   \n",
            "4    751  E4S 55,620  20220101  04:00:00         240          48           16   \n",
            "\n",
            "   Interval_30  Interval_60  SPEED_MS_AVG  FLOW  \n",
            "0            8            4         26.40   1.0  \n",
            "1            8            4         24.43   3.0  \n",
            "2            8            4         20.33   4.0  \n",
            "3            8            4         18.55   4.0  \n",
            "4            8            4         22.19   7.0  \n",
            "\n",
            " final evaluation dataset --------\n",
            "   DP_ID      PORTAL      Date      Time  Interval_1  Interval_5  Interval_15  \\\n",
            "0   4872  E4S 56,780  20220105  04:00:00         240          48           16   \n",
            "1   4430  E4S 57,435  20220105  04:00:00         240          48           16   \n",
            "2   4436  E4S 57,820  20220105  04:00:00         240          48           16   \n",
            "3   1079  E4S 56,780  20220105  04:00:00         240          48           16   \n",
            "4   1076  E4S 55,620  20220105  04:00:00         240          48           16   \n",
            "\n",
            "   Interval_30  Interval_60  SPEED_MS_AVG  FLOW  \n",
            "0            8            4         17.50   1.0  \n",
            "1            8            4         24.44   1.0  \n",
            "2            8            4         23.61   1.0  \n",
            "3            8            4         23.75   2.0  \n",
            "4            8            4         21.30   3.0  \n"
          ]
        }
      ]
    },
    {
      "cell_type": "code",
      "source": [
        "print('Training dataset')\n",
        "print(tds.isna().sum())\n",
        "print('\\n eval dataset')\n",
        "print(ev_ds.isna().sum())\n",
        "print('\\n final eval dataset')\n",
        "print(f_ev_ds.isna().sum())"
      ],
      "metadata": {
        "id": "f4rMw4EXL1_9",
        "colab": {
          "base_uri": "https://localhost:8080/"
        },
        "outputId": "8fd710eb-3646-4669-def0-d3b70d8f8464"
      },
      "execution_count": 30,
      "outputs": [
        {
          "output_type": "stream",
          "name": "stdout",
          "text": [
            "Training dataset\n",
            "DP_ID            0\n",
            "PORTAL           0\n",
            "Date             0\n",
            "Time             0\n",
            "Interval_1       0\n",
            "Interval_5       0\n",
            "Interval_15      0\n",
            "Interval_30      0\n",
            "Interval_60      0\n",
            "SPEED_MS_AVG     0\n",
            "FLOW            62\n",
            "dtype: int64\n",
            "\n",
            " eval dataset\n",
            "DP_ID            0\n",
            "PORTAL           0\n",
            "Date             0\n",
            "Time             0\n",
            "Interval_1       0\n",
            "Interval_5       0\n",
            "Interval_15      0\n",
            "Interval_30      0\n",
            "Interval_60      0\n",
            "SPEED_MS_AVG     0\n",
            "FLOW            29\n",
            "dtype: int64\n",
            "\n",
            " final eval dataset\n",
            "DP_ID           0\n",
            "PORTAL          0\n",
            "Date            0\n",
            "Time            0\n",
            "Interval_1      0\n",
            "Interval_5      0\n",
            "Interval_15     0\n",
            "Interval_30     0\n",
            "Interval_60     0\n",
            "SPEED_MS_AVG    0\n",
            "FLOW            4\n",
            "dtype: int64\n"
          ]
        }
      ]
    },
    {
      "cell_type": "code",
      "source": [],
      "metadata": {
        "id": "eH008jxE-G3M"
      },
      "execution_count": 30,
      "outputs": []
    },
    {
      "cell_type": "code",
      "source": [
        "#drop all NaN values.\n",
        "f_ev_ds_noNAN = f_ev_ds.dropna()\n",
        "tds_noNAN = tds.dropna()\n",
        "ev_ds_noNAN = ev_ds.dropna()"
      ],
      "metadata": {
        "id": "vXWad_xvU9OW"
      },
      "execution_count": 31,
      "outputs": []
    },
    {
      "cell_type": "code",
      "source": [
        "print(f'Org dataset amount:{len(tds)}')\n",
        "print(f'Org dataset amount:{len(ev_ds)}')\n",
        "print(f'Org dataset amount:{len(f_ev_ds)}')\n",
        "\n",
        "print(f'Dropped Dataset amount:{len(tds_noNAN)}')\n",
        "print(f'Dropped Dataset amount:{len(ev_ds_noNAN)}')\n",
        "print(f'Dropped Dataset amount:{len(f_ev_ds_noNAN)}')"
      ],
      "metadata": {
        "id": "o2L9iJoAU529",
        "colab": {
          "base_uri": "https://localhost:8080/"
        },
        "outputId": "0c3826f8-53e4-4f44-dda6-65f3cb58af12"
      },
      "execution_count": 32,
      "outputs": [
        {
          "output_type": "stream",
          "name": "stdout",
          "text": [
            "Org dataset amount:1921967\n",
            "Org dataset amount:803377\n",
            "Org dataset amount:803501\n",
            "Dropped Dataset amount:1921905\n",
            "Dropped Dataset amount:803348\n",
            "Dropped Dataset amount:803497\n"
          ]
        }
      ]
    },
    {
      "cell_type": "code",
      "source": [
        "#define what is congestion and what is not.\n",
        "# congestion_flow = tds[tds['FLOW'] < 100]\n",
        "# congestion_speed = tds[tds['SPEED_MS_AVG'] < 10]\n",
        "\n",
        "ev_ds_noNAN['datetime'] = pd.to_datetime(ev_ds_noNAN['Date'].astype(str) + ' ' + ev_ds_noNAN['Time'])\n",
        "\n",
        "ev_ds_offpeak = ev_ds_noNAN[(ev_ds_noNAN['datetime'].dt.time >= pd.to_datetime(\"04:00:00\").time()) &\n",
        "                            (ev_ds_noNAN['datetime'].dt.time <= pd.to_datetime(\"06:00:00\").time())]\n",
        "ev_ds_onpeak = ev_ds_noNAN[(ev_ds_noNAN['datetime'].dt.time >= pd.to_datetime(\"07:30:00\").time()) &\n",
        "                           (ev_ds_noNAN['datetime'].dt.time <= pd.to_datetime(\"08:30:00\").time())]\n",
        "\n",
        "ev_ds_offpeak = ev_ds_offpeak[(ev_ds_offpeak['FLOW'] > 0) &\n",
        "                              (ev_ds_offpeak['SPEED_MS_AVG'].between(5, 50))]\n",
        "ev_ds_onpeak = ev_ds_onpeak[(ev_ds_onpeak['FLOW'] > 0) &\n",
        "                            (ev_ds_onpeak['SPEED_MS_AVG'].between(5, 50))]\n"
      ],
      "metadata": {
        "id": "oezW0AffMMBe",
        "colab": {
          "base_uri": "https://localhost:8080/"
        },
        "outputId": "d1edd0f8-4aeb-4e22-a037-6d20005c2b23"
      },
      "execution_count": 33,
      "outputs": [
        {
          "output_type": "stream",
          "name": "stderr",
          "text": [
            "/tmp/ipython-input-176674914.py:5: SettingWithCopyWarning: \n",
            "A value is trying to be set on a copy of a slice from a DataFrame.\n",
            "Try using .loc[row_indexer,col_indexer] = value instead\n",
            "\n",
            "See the caveats in the documentation: https://pandas.pydata.org/pandas-docs/stable/user_guide/indexing.html#returning-a-view-versus-a-copy\n",
            "  ev_ds_noNAN['datetime'] = pd.to_datetime(ev_ds_noNAN['Date'].astype(str) + ' ' + ev_ds_noNAN['Time'])\n"
          ]
        }
      ]
    },
    {
      "cell_type": "code",
      "source": [
        "# converting the date and time columns int o just one \"datetime\" coluinm\n",
        "tds_noNAN['datetime'] = pd.to_datetime(tds_noNAN['Date'].astype(str) + ' ' + tds_noNAN['Time'])\n",
        "\n",
        "# filtering the dataset to only include the data within hours 04:00 and 06:00, this to get an accurate description of free flow speed.\n",
        "tds_offpeak = tds_noNAN[(tds_noNAN['datetime'].dt.time >= pd.to_datetime(\"04:00:00\").time()) &\n",
        "                (tds_noNAN['datetime'].dt.time <= pd.to_datetime(\"06:00:00\").time())]\n",
        "\n",
        "tds_onpeak= tds_noNAN[(tds_noNAN['datetime'].dt.time >= pd.to_datetime(\"07:30:00\").time()) &\n",
        "                  (tds_noNAN['datetime'].dt.time <= pd.to_datetime(\"08:30:00\").time())]\n",
        "#Ensuring we only get correctly read speeds. E.g Removing any negative speeds and random slow drivers etc\n",
        "#that do not actually depict the actual free flowspeed e.g people speeding and drinving super slow...\n",
        "tds_offpeak = tds_offpeak[(tds_offpeak['FLOW'] > 0) &\n",
        "                        (tds_offpeak['SPEED_MS_AVG'].between(5, 50))]\n",
        "tds_onpeak = tds_onpeak[(tds_onpeak['FLOW'] > 0) &\n",
        "                        (tds_onpeak['SPEED_MS_AVG'].between(5, 50))]\n",
        "# Calculating the free flow speed\n",
        "# only take the observations in the 85th quantile [m/s]\n",
        "ffs_ms = (tds_offpeak['SPEED_MS_AVG'].quantile(0.85))\n",
        "ffs_ms_2 = (tds_onpeak['SPEED_MS_AVG'].quantile(0.85))\n",
        "# convert to km/h\n",
        "ffs_kmh = (ffs_ms * 3.6)\n",
        "ffs_kmh_2 =(ffs_ms_2 * 3.6)\n",
        "print(f\"Free Flow Speed [85th percentile]: \\n Free flow speed: {ffs_ms_2 } [m/s] \\n Free Flow Speed {ffs_kmh_2} [km/h]\")\n",
        "print(f\"Free-flow speed (85th percentile): \\n Free flow speed: {ffs_ms} [m/s] \\n Free flow speed {ffs_kmh} [km/h]\")"
      ],
      "metadata": {
        "id": "Ou3DA0M5VJKf",
        "colab": {
          "base_uri": "https://localhost:8080/"
        },
        "outputId": "c15bc662-c932-4268-d525-3a4eb3dc9685"
      },
      "execution_count": 34,
      "outputs": [
        {
          "output_type": "stream",
          "name": "stderr",
          "text": [
            "/tmp/ipython-input-2205502600.py:2: SettingWithCopyWarning: \n",
            "A value is trying to be set on a copy of a slice from a DataFrame.\n",
            "Try using .loc[row_indexer,col_indexer] = value instead\n",
            "\n",
            "See the caveats in the documentation: https://pandas.pydata.org/pandas-docs/stable/user_guide/indexing.html#returning-a-view-versus-a-copy\n",
            "  tds_noNAN['datetime'] = pd.to_datetime(tds_noNAN['Date'].astype(str) + ' ' + tds_noNAN['Time'])\n"
          ]
        },
        {
          "output_type": "stream",
          "name": "stdout",
          "text": [
            "Free Flow Speed [85th percentile]: \n",
            " Free flow speed: 22.58 [m/s] \n",
            " Free Flow Speed 81.288 [km/h]\n",
            "Free-flow speed (85th percentile): \n",
            " Free flow speed: 23.88 [m/s] \n",
            " Free flow speed 85.968 [km/h]\n"
          ]
        }
      ]
    },
    {
      "cell_type": "code",
      "source": [
        "# Calculate FFS (85th percentile)\n",
        "ffs_ms_2 = tds_onpeak['SPEED_MS_AVG'].quantile(0.85)\n",
        "ffs_kmh_2 = ffs_ms_2 * 3.6\n",
        "\n",
        "plt.figure(figsize=(10,6))\n",
        "plt.hist(tds_onpeak['SPEED_MS_AVG']*3.6, bins=40, color='skyblue', edgecolor='black', alpha=0.7)\n",
        "\n",
        "plt.axvline(ffs_kmh_2, color='red', linestyle='--', linewidth=2, label=f'85th percentile (FFS = {ffs_kmh_2:.2f} km/h)')\n",
        "plt.xlabel(\"Speed (km/h)\")\n",
        "plt.ylabel(\"Frequency\")\n",
        "plt.title(\"Distribution of Speeds During On-Peak (07:30–08:30)\")\n",
        "plt.legend()\n",
        "plt.grid(alpha=0.3)\n",
        "plt.show()"
      ],
      "metadata": {
        "colab": {
          "base_uri": "https://localhost:8080/",
          "height": 564
        },
        "id": "Ak48AujNQBWD",
        "outputId": "0dfd9e0b-4d68-4590-9708-66a9f6a90695"
      },
      "execution_count": 35,
      "outputs": [
        {
          "output_type": "display_data",
          "data": {
            "text/plain": [
              "<Figure size 1000x600 with 1 Axes>"
            ],
            "image/png": "[encoded data removed]"
          },
          "metadata": {}
        }
      ]
    },
    {
      "cell_type": "code",
      "source": [
        "# Calculate FFS (85th percentile)\n",
        "ffs_ms = tds_offpeak['SPEED_MS_AVG'].quantile(0.85)\n",
        "ffs_kmh = ffs_ms * 3.6\n",
        "\n",
        "# Plot histogram\n",
        "plt.figure(figsize=(10,6))\n",
        "plt.hist(tds_offpeak['SPEED_MS_AVG']*3.6, bins=40, color='skyblue', edgecolor='black', alpha=0.7)\n",
        "plt.axvline(ffs_kmh, color='red', linestyle='--', linewidth=2, label=f'85th percentile (FFS = {ffs_kmh:.2f} km/h)')\n",
        "\n",
        "plt.xlabel(\"Speed (km/h)\")\n",
        "plt.ylabel(\"Frequency\")\n",
        "plt.title(\"Distribution of Speeds During Off-Peak (04:00–06:00)\")\n",
        "plt.legend()\n",
        "plt.grid(alpha=0.3)\n",
        "plt.show()"
      ],
      "metadata": {
        "id": "6uBlKaW0X-2j",
        "colab": {
          "base_uri": "https://localhost:8080/",
          "height": 564
        },
        "outputId": "273fe157-0831-4574-9ee9-299c19da52ee"
      },
      "execution_count": 36,
      "outputs": [
        {
          "output_type": "display_data",
          "data": {
            "text/plain": [
              "<Figure size 1000x600 with 1 Axes>"
            ],
            "image/png": "[encoded data removed]"
          },
          "metadata": {}
        }
      ]
    },
    {
      "cell_type": "code",
      "source": [
        "# Define Congestion Threshold!\n",
        "cong_th = ffs_kmh * 0.7 # why 70% of the ffs?\n",
        "cong_th_2 = ffs_kmh_2 * 0.7\n",
        "\n",
        "print(f'There is congestion at the avg. speed of: {cong_th} [km/h]')\n",
        "print(f'There is congestion at the avg. speed of : {cong_th_2} [km/h]')"
      ],
      "metadata": {
        "id": "R5ParPnNbdFN",
        "colab": {
          "base_uri": "https://localhost:8080/"
        },
        "outputId": "2e9eb821-3871-4935-96a7-027731f088c1"
      },
      "execution_count": 37,
      "outputs": [
        {
          "output_type": "stream",
          "name": "stdout",
          "text": [
            "There is congestion at the avg. speed of: 68.7744 [km/h]\n",
            "There is congestion at the avg. speed of : 65.0304 [km/h]\n"
          ]
        }
      ]
    },
    {
      "cell_type": "code",
      "source": [
        "# tds_noNAN['pred15'] = tds_noNAN['SPEED_MS_AVG'].shift(-1).rolling(15).mean()\n",
        "# # congestion if 15 min av speed is less than cong_th (rn 60 km/h)\n",
        "# tds_noNAN['congestion'] = (tds_noNAN['pred15']*3.6 <= cong_th).astype(int)\n",
        "\n",
        "tds_noNAN['pred15'] = tds_noNAN['SPEED_MS_AVG'].shift(-1).rolling(15).mean()\n",
        "tds_noNAN['congestion'] = (tds_noNAN['pred15']*3.6 <= cong_th_2).astype(int)"
      ],
      "metadata": {
        "id": "qScNu1yw0KIE",
        "colab": {
          "base_uri": "https://localhost:8080/"
        },
        "outputId": "79b1214d-6c03-4a27-a9f8-805794efbbf2"
      },
      "execution_count": 38,
      "outputs": [
        {
          "output_type": "stream",
          "name": "stderr",
          "text": [
            "/tmp/ipython-input-636401689.py:5: SettingWithCopyWarning: \n",
            "A value is trying to be set on a copy of a slice from a DataFrame.\n",
            "Try using .loc[row_indexer,col_indexer] = value instead\n",
            "\n",
            "See the caveats in the documentation: https://pandas.pydata.org/pandas-docs/stable/user_guide/indexing.html#returning-a-view-versus-a-copy\n",
            "  tds_noNAN['pred15'] = tds_noNAN['SPEED_MS_AVG'].shift(-1).rolling(15).mean()\n",
            "/tmp/ipython-input-636401689.py:6: SettingWithCopyWarning: \n",
            "A value is trying to be set on a copy of a slice from a DataFrame.\n",
            "Try using .loc[row_indexer,col_indexer] = value instead\n",
            "\n",
            "See the caveats in the documentation: https://pandas.pydata.org/pandas-docs/stable/user_guide/indexing.html#returning-a-view-versus-a-copy\n",
            "  tds_noNAN['congestion'] = (tds_noNAN['pred15']*3.6 <= cong_th_2).astype(int)\n"
          ]
        }
      ]
    },
    {
      "cell_type": "code",
      "source": [
        "def make_features_targets(df, horizon=15, cong_th_kmh=60):\n",
        "    \"\"\"\n",
        "    Create past-15-minute features and a binary target:\n",
        "    1 if future average speed (next horizon minutes) <= congestion threshold.\n",
        "    \"\"\"\n",
        "\n",
        "    df = df.copy()\n",
        "\n",
        "    # --- Future average speed over the next horizon minutes ---\n",
        "    df[f'future_speed_{horizon}m'] = (\n",
        "        df['SPEED_MS_AVG'].shift(-horizon).rolling(horizon).mean() * 3.6\n",
        "    )\n",
        "\n",
        "    # --- Binary target: congestion (1) vs. free flow (0) ---\n",
        "    df['future_congestion'] = (df[f'future_speed_{horizon}m'] <= cong_th_kmh).astype(int)\n",
        "\n",
        "    # --- Feature engineering: past 15-min rolling stats ---\n",
        "    df['past15_flow_mean']  = df['FLOW'].rolling(15).mean()\n",
        "    df['past15_flow_std']   = df['FLOW'].rolling(15).std()\n",
        "    df['past15_flow_min']   = df['FLOW'].rolling(15).min()\n",
        "    df['past15_flow_max']   = df['FLOW'].rolling(15).max()\n",
        "    df['past15_flow_slope'] = df['FLOW'] - df['FLOW'].shift(15)\n",
        "\n",
        "    df['past15_speed_mean']  = df['SPEED_MS_AVG'].rolling(15).mean()\n",
        "    df['past15_speed_std']   = df['SPEED_MS_AVG'].rolling(15).std()\n",
        "    df['past15_speed_min']   = df['SPEED_MS_AVG'].rolling(15).min()\n",
        "    df['past15_speed_max']   = df['SPEED_MS_AVG'].rolling(15).max()\n",
        "    df['past15_speed_slope'] = df['SPEED_MS_AVG'] - df['SPEED_MS_AVG'].shift(15)\n",
        "\n",
        "    # --- Cyclical time-of-day features ---\n",
        "    df[\"minute_of_day\"] = df[\"datetime\"].dt.hour * 60 + df[\"datetime\"].dt.minute\n",
        "    df[\"tod_sin\"] = np.sin(2 * np.pi * df[\"minute_of_day\"] / 1440)\n",
        "    df[\"tod_cos\"] = np.cos(2 * np.pi * df[\"minute_of_day\"] / 1440)\n",
        "\n",
        "    features = [\n",
        "        'past15_flow_mean','past15_flow_std','past15_flow_min','past15_flow_max','past15_flow_slope',\n",
        "        'past15_speed_mean','past15_speed_std','past15_speed_min','past15_speed_max','past15_speed_slope',\n",
        "        'tod_sin','tod_cos'\n",
        "    ]\n",
        "\n",
        "    target = 'future_congestion'\n",
        "\n",
        "    df = df.dropna(subset=features + [target])\n",
        "\n",
        "    return df, features, target\n"
      ],
      "metadata": {
        "id": "zC_0zwpGEDa3"
      },
      "execution_count": 39,
      "outputs": []
    },
    {
      "cell_type": "code",
      "source": [
        "tds_peak = tds_noNAN[\n",
        "    (tds_noNAN[\"datetime\"].dt.time >= pd.to_datetime(\"07:30:00\").time()) &\n",
        "    (tds_noNAN[\"datetime\"].dt.time <= pd.to_datetime(\"08:30:00\").time())\n",
        "]\n",
        "tds_fixad, features, target = make_features_targets(tds_peak, horizon=15, cong_th_kmh=cong_th_2)\n",
        "\n",
        "# 2. Create evaluation data (for 2022)\n",
        "ev_fixad, _, _ = make_features_targets(ev_ds_noNAN, horizon=15)\n"
      ],
      "metadata": {
        "id": "5pCZiowXHPdv"
      },
      "execution_count": 40,
      "outputs": []
    },
    {
      "cell_type": "code",
      "source": [
        "#Split into train / test sets\n",
        "X = tds_fixad[features].values\n",
        "y = tds_fixad[target].values\n",
        "\n",
        "X_train, X_test, y_train, y_test = train_test_split(X, y, test_size=0.2, random_state=42, shuffle=False)\n",
        "#Scaling the datat.\n",
        "scaler = StandardScaler()\n",
        "X_train_scaled = scaler.fit_transform(X_train)\n",
        "X_test_scaled  = scaler.transform(X_test)"
      ],
      "metadata": {
        "id": "wsZWjSzpKOQI"
      },
      "execution_count": 41,
      "outputs": []
    },
    {
      "cell_type": "markdown",
      "source": [
        "# Test data models"
      ],
      "metadata": {
        "id": "qjbV9vQfLA_t"
      }
    },
    {
      "cell_type": "code",
      "source": [
        "from sklearn.linear_model import LogisticRegression\n",
        "#perform linear regression model.\n",
        "lr = LogisticRegression(random_state = 42, max_iter = 1000, class_weight='balanced')\n",
        "lr.fit(X_train_scaled, y_train)\n",
        "y_pred_lr = lr.predict(X_test_scaled)\n",
        "y_prob_lr = lr.predict_proba(X_test_scaled)[:, 1]\n",
        "\n",
        "\n",
        "print(confusion_matrix(y_test, y_pred_lr))\n",
        "print(classification_report(y_test, y_pred_lr, digits=3))\n",
        "\n",
        "# mae_lr = mean_absolute_error(y_test, y_pred_lr)\n",
        "# mse_lr = mean_squared_error(y_test, y_pred_lr)\n",
        "# rmse_lr = np.sqrt(mse_lr)\n",
        "# r2_lr = r2_score(y_test, y_pred_lr)\n",
        "# mape_lr = mean_absolute_percentage_error(y_test, y_pred_lr)"
      ],
      "metadata": {
        "colab": {
          "base_uri": "https://localhost:8080/"
        },
        "id": "7ftEGsokKqdI",
        "outputId": "d2eba4f7-9b3c-409a-974d-3aa89dbd0e74"
      },
      "execution_count": 53,
      "outputs": [
        {
          "output_type": "stream",
          "name": "stdout",
          "text": [
            "[[45205 12144]\n",
            " [ 4384  7794]]\n",
            "              precision    recall  f1-score   support\n",
            "\n",
            "           0      0.912     0.788     0.845     57349\n",
            "           1      0.391     0.640     0.485     12178\n",
            "\n",
            "    accuracy                          0.762     69527\n",
            "   macro avg      0.651     0.714     0.665     69527\n",
            "weighted avg      0.820     0.762     0.782     69527\n",
            "\n"
          ]
        }
      ]
    },
    {
      "cell_type": "code",
      "source": [
        "# #Random forrest model\n",
        "# random_f = RandomForestRegressor(n_estimators = 100, max_depth = 3, random_state = 42, n_jobs=-1)\n",
        "# random_f.fit(X_train, y_train)\n",
        "# y_pred_rf = random_f.predict(X_test)"
      ],
      "metadata": {
        "id": "ee0TeBdyLNu6"
      },
      "execution_count": 43,
      "outputs": []
    },
    {
      "cell_type": "code",
      "source": [],
      "metadata": {
        "id": "0i9U-JFWag4D"
      },
      "execution_count": null,
      "outputs": []
    },
    {
      "cell_type": "code",
      "source": [
        "from xgboost import XGBClassifier\n",
        "scale_pos_weight = (len(y_train) - sum(y_train)) / sum(y_train)\n",
        "xgb_clf = XGBClassifier(\n",
        "    n_estimators=500,\n",
        "    learning_rate=0.05,\n",
        "    max_depth=8,\n",
        "    subsample=0.8,\n",
        "    colsample_bytree=0.8,\n",
        "    scale_pos_weight=scale_pos_weight,\n",
        "    random_state=42,\n",
        "    n_jobs=-1\n",
        ")\n",
        "\n",
        "xgb_clf.fit(X_train_scaled, y_train)\n",
        "\n",
        "# --- Predictions ---\n",
        "y_pred_xgb = xgb_clf.predict(X_test_scaled)\n",
        "y_prob_xgb = xgb_clf.predict_proba(X_test_scaled)[:, 1]\n",
        "\n",
        "# --- Evaluate ---\n",
        "print(confusion_matrix(y_test, y_pred_xgb))\n",
        "print(classification_report(y_test, y_pred_xgb, digits=3))"
      ],
      "metadata": {
        "colab": {
          "base_uri": "https://localhost:8080/"
        },
        "id": "EgkS9CZMaTzb",
        "outputId": "b2d9a2e6-e5fa-4c94-bdb9-dbb79e1f0e8c"
      },
      "execution_count": 59,
      "outputs": [
        {
          "output_type": "stream",
          "name": "stdout",
          "text": [
            "[[49385  7964]\n",
            " [ 6145  6033]]\n",
            "              precision    recall  f1-score   support\n",
            "\n",
            "           0      0.889     0.861     0.875     57349\n",
            "           1      0.431     0.495     0.461     12178\n",
            "\n",
            "    accuracy                          0.797     69527\n",
            "   macro avg      0.660     0.678     0.668     69527\n",
            "weighted avg      0.809     0.797     0.802     69527\n",
            "\n"
          ]
        }
      ]
    },
    {
      "cell_type": "code",
      "source": [
        "# xgb_model = XGBRegressor(n_estimators=100, learning_rate=0.1, max_depth=3, random_state=42)\n",
        "# xgb_model.fit(X_train_scaled, y_train)\n",
        "\n",
        "# xgb_model.fit(X_train, y_train)\n",
        "# y_pred_xgb = xgb_model.predict(X_test)\n",
        "# mae_xgb= mean_absolute_error(y_test, y_pred_xgb)\n",
        "# mse_xgb = mean_squared_error(y_test, y_pred_xgb)\n",
        "# rmse_xgb = np.sqrt(mse_xgb)\n",
        "# r2_xgb = r2_score(y_test, y_pred_xgb)\n",
        "# mape_xgb = mean_absolute_percentage_error(y_test, y_pred_xgb)\n"
      ],
      "metadata": {
        "id": "uNGiydnpNax4"
      },
      "execution_count": 45,
      "outputs": []
    },
    {
      "cell_type": "code",
      "source": [
        "print(\"Linear Regression\")\n",
        "print(f\"Mean Absolute Error (MAE): {mae_lr}\")\n",
        "print(f\"Mean Squared Error (MSE): {mse_lr}\")\n",
        "print(f\"Root Mean Squared Error (RMSE): {rmse_lr}\")\n",
        "print(f\"R2-score {r2_lr}\")\n",
        "print(f\"Mean Absolute Percentage Error (MAPE): {mape_lr}\")\n",
        "\n",
        "print(\"\\n\")\n",
        "\n",
        "print(\"XGBoost\")\n",
        "print(f\"Mean Absolute Error (MAE): {mae_xgb}\")\n",
        "print(f\"Mean Squared Error (MSE): {mse_xgb}\")\n",
        "print(f\"Root Mean Squared Error (RMSE): {rmse_xgb}\")\n",
        "print(f\"Mean Absolute Percentage Error (MAPE): {mape_xgb}\")\n",
        "print(f\"R2-score {r2_xgb}\")\n"
      ],
      "metadata": {
        "colab": {
          "base_uri": "https://localhost:8080/"
        },
        "id": "OaC7hdtBOxA8",
        "outputId": "6bb7d5f7-f798-478f-fc30-8fe501dd12d1"
      },
      "execution_count": 46,
      "outputs": [
        {
          "output_type": "stream",
          "name": "stdout",
          "text": [
            "Linear Regression\n",
            "Mean Absolute Error (MAE): 0.20774974944309324\n",
            "Mean Squared Error (MSE): 0.13325256048920717\n",
            "Root Mean Squared Error (RMSE): 0.36503775214244233\n",
            "R2-score 0.07768191429959637\n",
            "Mean Absolute Percentage Error (MAPE): 288341700984969.06\n",
            "\n",
            "\n",
            "XGBoost\n",
            "Mean Absolute Error (MAE): 0.1879599690437317\n",
            "Mean Squared Error (MSE): 0.12844352424144745\n",
            "Root Mean Squared Error (RMSE): 0.35839018435421394\n",
            "Mean Absolute Percentage Error (MAPE): 204400177971200.0\n",
            "R2-score 0.11096793413162231\n"
          ]
        }
      ]
    },
    {
      "cell_type": "code",
      "source": [
        "# Define congestion threshold (same one you used earlier)\n",
        "cong_th_2 = ffs_kmh_2 * 0.8  # for example\n",
        "\n",
        "# From your regression predictions\n",
        "y_pred_xgb_cong = (y_pred_xgb <= cong_th_2).astype(int)\n",
        "y_true_cong = (y_test <= cong_th_2).astype(int)\n",
        "\n",
        "from sklearn.metrics import classification_report, confusion_matrix\n",
        "\n",
        "print(confusion_matrix(y_true_cong, y_pred_xgb_cong))\n",
        "print(classification_report(y_true_cong, y_pred_xgb_cong, digits=3))\n"
      ],
      "metadata": {
        "colab": {
          "base_uri": "https://localhost:8080/"
        },
        "id": "GJMb-l-STPk2",
        "outputId": "fcba26a7-9920-4a8c-cac4-badaab5e8c1f"
      },
      "execution_count": 47,
      "outputs": [
        {
          "output_type": "stream",
          "name": "stdout",
          "text": [
            "[[69527]]\n",
            "              precision    recall  f1-score   support\n",
            "\n",
            "           1      1.000     1.000     1.000     69527\n",
            "\n",
            "    accuracy                          1.000     69527\n",
            "   macro avg      1.000     1.000     1.000     69527\n",
            "weighted avg      1.000     1.000     1.000     69527\n",
            "\n"
          ]
        },
        {
          "output_type": "stream",
          "name": "stderr",
          "text": [
            "/usr/local/lib/python3.12/dist-packages/sklearn/metrics/_classification.py:407: UserWarning: A single label was found in 'y_true' and 'y_pred'. For the confusion matrix to have the correct shape, use the 'labels' parameter to pass all known labels.\n",
            "  warnings.warn(\n"
          ]
        }
      ]
    },
    {
      "cell_type": "code",
      "source": [
        "# from sklearn.ensemble import RandomForestClassifier\n",
        "\n",
        "# rf_clf = RandomForestClassifier(\n",
        "#     n_estimators=300,\n",
        "#     max_depth=12,\n",
        "#     class_weight='balanced',  # handle imbalance\n",
        "#     random_state=42,\n",
        "#     n_jobs=-1\n",
        "# )\n",
        "\n",
        "# rf_clf.fit(X_train_scaled, y_train)\n",
        "# y_pred_rf = rf_clf.predict(X_test_scaled)\n",
        "\n",
        "# print(confusion_matrix(y_test, y_pred_rf))\n",
        "# print(classification_report(y_test, y_pred_rf, digits=3))"
      ],
      "metadata": {
        "id": "z0FnSQBggD_Y"
      },
      "execution_count": null,
      "outputs": []
    },
    {
      "cell_type": "code",
      "source": [
        "results = []\n",
        "\n",
        "for name, pred in [\n",
        "    (\"Logistic Regression\", y_pred_lr),\n",
        "    # (\"Random Forest\", y_pred_rf),\n",
        "    (\"XGBoost\", y_pred_xgb)\n",
        "]:\n",
        "    results.append({\n",
        "        \"Model\": name,\n",
        "        \"Accuracy\": accuracy_score(y_test, pred),\n",
        "        \"Precision\": precision_score(y_test, pred),\n",
        "        \"Recall\": recall_score(y_test, pred),\n",
        "        \"F1\": f1_score(y_test, pred)\n",
        "    })\n",
        "\n",
        "results_df = pd.DataFrame(results)\n",
        "print(results_df)\n"
      ],
      "metadata": {
        "colab": {
          "base_uri": "https://localhost:8080/"
        },
        "id": "-3eeZRo2gZLE",
        "outputId": "b83be5ce-7fad-4f5f-a4c5-5171bef8f16e"
      },
      "execution_count": 61,
      "outputs": [
        {
          "output_type": "stream",
          "name": "stdout",
          "text": [
            "                 Model  Accuracy  Precision    Recall        F1\n",
            "0  Logistic Regression  0.762279   0.390912  0.640007  0.485366\n",
            "1              XGBoost  0.797072   0.431021  0.495402  0.460974\n"
          ]
        }
      ]
    },
    {
      "cell_type": "markdown",
      "source": [
        "# Evaluation data models"
      ],
      "metadata": {
        "id": "VZah5Co1RVpc"
      }
    },
    {
      "cell_type": "code",
      "source": [
        "ev_peak = ev_ds_noNAN[\n",
        "    (ev_ds_noNAN[\"datetime\"].dt.time >= pd.to_datetime(\"07:30:00\").time()) &\n",
        "    (ev_ds_noNAN[\"datetime\"].dt.time <= pd.to_datetime(\"08:30:00\").time())\n",
        "]\n",
        "ev_fixad, _, _ = make_features_targets(ev_peak, horizon=15, cong_th_kmh=cong_th_2)\n"
      ],
      "metadata": {
        "id": "VWCyAfBSRU_-"
      },
      "execution_count": 48,
      "outputs": []
    },
    {
      "cell_type": "code",
      "source": [
        "X_eval = ev_fixad[features].values\n",
        "y_eval = ev_fixad[target].values\n",
        "X_eval_scaled = scaler.transform(X_eval)"
      ],
      "metadata": {
        "id": "uGURcxANRmDy"
      },
      "execution_count": 49,
      "outputs": []
    },
    {
      "cell_type": "code",
      "source": [
        "for name, model in [\n",
        "    (\"Logistic Regression\", lr),\n",
        "    # (\"Random Forest\", rf_clf),\n",
        "    (\"XGBoost\", xgb_clf)\n",
        "]:\n",
        "    y_pred_eval = model.predict(X_eval_scaled)\n",
        "    print(f\"\\n{name} (Evaluation 2022 dataset):\")\n",
        "    print(confusion_matrix(y_eval, y_pred_eval))\n",
        "    print(classification_report(y_eval, y_pred_eval, digits=3))"
      ],
      "metadata": {
        "colab": {
          "base_uri": "https://localhost:8080/"
        },
        "id": "RslmOG4ZTPDN",
        "outputId": "4a3d10e1-c68e-4190-fa5c-e875618476b4"
      },
      "execution_count": 60,
      "outputs": [
        {
          "output_type": "stream",
          "name": "stdout",
          "text": [
            "\n",
            "Logistic Regression (Evaluation 2022 dataset):\n",
            "[[111743  21232]\n",
            " [  2282  10082]]\n",
            "              precision    recall  f1-score   support\n",
            "\n",
            "           0      0.980     0.840     0.905    132975\n",
            "           1      0.322     0.815     0.462     12364\n",
            "\n",
            "    accuracy                          0.838    145339\n",
            "   macro avg      0.651     0.828     0.683    145339\n",
            "weighted avg      0.924     0.838     0.867    145339\n",
            "\n",
            "\n",
            "XGBoost (Evaluation 2022 dataset):\n",
            "[[121552  11423]\n",
            " [  4017   8347]]\n",
            "              precision    recall  f1-score   support\n",
            "\n",
            "           0      0.968     0.914     0.940    132975\n",
            "           1      0.422     0.675     0.520     12364\n",
            "\n",
            "    accuracy                          0.894    145339\n",
            "   macro avg      0.695     0.795     0.730    145339\n",
            "weighted avg      0.922     0.894     0.904    145339\n",
            "\n"
          ]
        }
      ]
    }
  ]
}